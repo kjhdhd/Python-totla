{
 "cells": [
  {
   "cell_type": "code",
   "execution_count": 2,
   "id": "997bc55d",
   "metadata": {},
   "outputs": [
    {
     "name": "stdout",
     "output_type": "stream",
     "text": [
      "grade A+\n"
     ]
    }
   ],
   "source": [
    "percent = 90\n",
    "if percent < 100 and percent > 80:\n",
    "   print (\"grade A+\")\n",
    "elif percent < 80 and percent > 70:\n",
    "   print (\"grade A\")\n",
    "else:\n",
    "    print (\"fail\")"
   ]
  },
  {
   "cell_type": "code",
   "execution_count": 6,
   "id": "8fcdc926",
   "metadata": {},
   "outputs": [
    {
     "ename": "SyntaxError",
     "evalue": "invalid syntax (<ipython-input-6-5a4a396d3992>, line 2)",
     "output_type": "error",
     "traceback": [
      "\u001b[1;36m  File \u001b[1;32m\"<ipython-input-6-5a4a396d3992>\"\u001b[1;36m, line \u001b[1;32m2\u001b[0m\n\u001b[1;33m    english marks = 100\u001b[0m\n\u001b[1;37m            ^\u001b[0m\n\u001b[1;31mSyntaxError\u001b[0m\u001b[1;31m:\u001b[0m invalid syntax\n"
     ]
    }
   ],
   "source": [
    "marks = 250\n",
    "english marks = 100\n",
    "maths marks = 100  \n",
    "islamiat marks = 100\n",
    "if marks < 280 and marks > 260: \n",
    "   print (\"grade A+\")\n",
    "elif marks < 230 and marks > 210:\n",
    "   print (\"grade A\")\n",
    "elif marks < 200 and marks > 180:\n",
    "   print (\"grade B\")\n",
    "elif makrs < 150 and marks > 110:\n",
    "   print (\"grade C\")\n",
    "else:\n",
    "    print (\"fail\")"
   ]
  },
  {
   "cell_type": "code",
   "execution_count": null,
   "id": "da6907f3",
   "metadata": {},
   "outputs": [],
   "source": []
  }
 ],
 "metadata": {
  "kernelspec": {
   "display_name": "Python 3",
   "language": "python",
   "name": "python3"
  },
  "language_info": {
   "codemirror_mode": {
    "name": "ipython",
    "version": 3
   },
   "file_extension": ".py",
   "mimetype": "text/x-python",
   "name": "python",
   "nbconvert_exporter": "python",
   "pygments_lexer": "ipython3",
   "version": "3.8.8"
  }
 },
 "nbformat": 4,
 "nbformat_minor": 5
}
