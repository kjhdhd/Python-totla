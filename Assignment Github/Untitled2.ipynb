{
 "cells": [
  {
   "cell_type": "code",
   "execution_count": 7,
   "id": "8d979bd1",
   "metadata": {},
   "outputs": [
    {
     "name": "stdout",
     "output_type": "stream",
     "text": [
      "grade A+\n"
     ]
    }
   ],
   "source": [
    "marks = 280\n",
    "if marks < 300 and marks > 260:\n",
    "   print (\"grade A+\") \n",
    "elif marks < 260 and marks > 220:\n",
    "   print (\"grade A\")\n",
    "elif marks < 220 and marks > 180:\n",
    "   print (\"grade B\") \n",
    "elif marks < 180 and marks > 140:\n",
    "   print (\"grade C\")\n",
    "elif marks < 140 and marks > 100:\n",
    "   print (\"grade D\") \n",
    "elif marks < 100 and marks > 60: \n",
    "   print (\"grade E\")\n",
    "else:\n",
    "   print (\"Fail\")"
   ]
  },
  {
   "cell_type": "code",
   "execution_count": 6,
   "id": "c9c7f28b",
   "metadata": {},
   "outputs": [
    {
     "name": "stdout",
     "output_type": "stream",
     "text": [
      "grade A+\n"
     ]
    }
   ],
   "source": [
    "percent = 92\n",
    "if percent < 100 and percent > 90:\n",
    "   print (\"grade A+\")\n",
    "elif percent < 90 and percent > 80:\n",
    "   print (\"grade A\")\n",
    "elif percent < 80 and percent > 70:\n",
    "   print (\"grade B\")\n",
    "elif percent < 70 and percent > 60:\n",
    "   print (\"grade C\")\n",
    "elif percent < 60 and percent > 50:\n",
    "   print (\"grade D\")\n",
    "elif percent < 50 and percent > 40:\n",
    "   print (\"grade E\") \n",
    "else:\n",
    "    print(\"Fail\")"
   ]
  },
  {
   "cell_type": "code",
   "execution_count": null,
   "id": "63483ef2",
   "metadata": {},
   "outputs": [],
   "source": []
  }
 ],
 "metadata": {
  "kernelspec": {
   "display_name": "Python 3",
   "language": "python",
   "name": "python3"
  },
  "language_info": {
   "codemirror_mode": {
    "name": "ipython",
    "version": 3
   },
   "file_extension": ".py",
   "mimetype": "text/x-python",
   "name": "python",
   "nbconvert_exporter": "python",
   "pygments_lexer": "ipython3",
   "version": "3.8.8"
  }
 },
 "nbformat": 4,
 "nbformat_minor": 5
}
